{
 "cells": [
  {
   "cell_type": "markdown",
   "id": "775c385e-ce05-41ad-b001-d83e6c0ea5c0",
   "metadata": {},
   "source": [
    "### Assignment 1"
   ]
  },
  {
   "cell_type": "code",
   "execution_count": 7,
   "id": "c41a3ff5-d2f4-40e9-a849-1fe9c9a0343f",
   "metadata": {},
   "outputs": [
    {
     "name": "stdin",
     "output_type": "stream",
     "text": [
      " 4\n",
      " 3\n",
      " 3\n"
     ]
    },
    {
     "data": {
      "text/plain": [
       "10"
      ]
     },
     "execution_count": 7,
     "metadata": {},
     "output_type": "execute_result"
    }
   ],
   "source": [
    "# 1.\tWAP in Python to take input three numbers and print their sum.\n",
    "a=int(input())\n",
    "b=int(input())\n",
    "c=int(input())\n",
    "d=a+b+c\n",
    "d"
   ]
  },
  {
   "cell_type": "code",
   "execution_count": 8,
   "id": "98f315aa-62b2-462f-ace6-73c595783d14",
   "metadata": {},
   "outputs": [
    {
     "name": "stdin",
     "output_type": "stream",
     "text": [
      " 4\n",
      " 3\n"
     ]
    },
    {
     "data": {
      "text/plain": [
       "12"
      ]
     },
     "execution_count": 8,
     "metadata": {},
     "output_type": "execute_result"
    }
   ],
   "source": [
    "# 2.\tWAP in Python to take input length and breadth of a rectangle and calculate its area.\n",
    "length=int(input())\n",
    "width=int(input())\n",
    "area=length*width\n",
    "area\n"
   ]
  },
  {
   "cell_type": "code",
   "execution_count": 6,
   "id": "d129da59-5835-4931-86d2-01b43d94a186",
   "metadata": {},
   "outputs": [
    {
     "name": "stdin",
     "output_type": "stream",
     "text": [
      "enter selling price 1500\n",
      "enter gst rate in percentage 18\n"
     ]
    },
    {
     "name": "stdout",
     "output_type": "stream",
     "text": [
      "selling price:1500.00\n",
      "cgst is :135.00\n",
      "sgst is :135.00\n",
      "total_price: 1770.00\n"
     ]
    }
   ],
   "source": [
    "# 3.\tWAP in Python to get selling price and GST rate and then print invoice along with both CGST and SGST values.\n",
    "def calculate_gst(selling_price,gst_rate):\n",
    "    cgst=sgst=(selling_price*gst_rate)/200\n",
    "    total_gst=cgst+sgst\n",
    "    total_price=total_gst+selling_price\n",
    "    return cgst,sgst,total_price\n",
    "selling_price=float(input(\"enter selling price\"))\n",
    "gst_rate=float(input(\"enter gst rate in percentage\"))\n",
    "cgst,sgst,total_price=calculate_gst(selling_price,gst_rate)\n",
    "print(f\"selling price:{selling_price:.2f}\")\n",
    "print(f\"cgst is :{cgst:.2f}\")\n",
    "print(f\"sgst is :{sgst:.2f}\")\n",
    "print(f\"total_price: {total_price:.2f}\")\n",
    "\n",
    "\n"
   ]
  },
  {
   "cell_type": "code",
   "execution_count": null,
   "id": "277e704c-30ae-48e7-a08d-8dea0ad94661",
   "metadata": {},
   "outputs": [],
   "source": []
  },
  {
   "cell_type": "code",
   "execution_count": 10,
   "id": "1ba1e5f9-2d12-4af2-a202-3d1dab9a293c",
   "metadata": {},
   "outputs": [
    {
     "name": "stdout",
     "output_type": "stream",
     "text": [
      "how funny you are\n"
     ]
    },
    {
     "name": "stdin",
     "output_type": "stream",
     "text": [
      "enter a key 4\n"
     ]
    },
    {
     "name": "stdout",
     "output_type": "stream",
     "text": [
      "how much\n"
     ]
    }
   ],
   "source": [
    "# 4.\tWAP in Python that displays a Joke but the condition is that the display of punch line is only when the user presses the enter key.\n",
    "def get_joke():\n",
    "    joke=\"how funny you are\"\n",
    "    punchline=\"how much\"\n",
    "    print(joke)\n",
    "    input(\"enter a key\")\n",
    "    print(punchline)\n",
    "get_joke()\n",
    "\n",
    "    "
   ]
  },
  {
   "cell_type": "code",
   "execution_count": 1,
   "id": "d3e1dd4d-bd71-434d-bd51-6cc8ecaa7a88",
   "metadata": {},
   "outputs": [
    {
     "name": "stdin",
     "output_type": "stream",
     "text": [
      "enter your height in cm: 172\n"
     ]
    },
    {
     "name": "stdout",
     "output_type": "stream",
     "text": [
      "5.6430448\n",
      "67.716572\n"
     ]
    }
   ],
   "source": [
    "# 5.\tWAP in Python that asks your height in centimeters and then converts your height to feet and inches\n",
    "heigthInCm=float(input(\"enter your height in cm:\"))\n",
    "feet=0.0328084*heigthInCm\n",
    "inch=0.393701*heigthInCm\n",
    "print(feet)\n",
    "print(inch)\n"
   ]
  },
  {
   "cell_type": "markdown",
   "id": "8cc78556-7da6-4fab-af4f-badef11cff56",
   "metadata": {},
   "source": [
    "### Assignment 2"
   ]
  },
  {
   "cell_type": "code",
   "execution_count": null,
   "id": "adf1ac98-8418-4cfd-98b5-a453efe8fc78",
   "metadata": {},
   "outputs": [],
   "source": []
  },
  {
   "cell_type": "code",
   "execution_count": 7,
   "id": "c1ec65fa-888c-411e-a460-b03648834de5",
   "metadata": {},
   "outputs": [],
   "source": [
    "#1.\tWhat will be the output produced by the following code?\n",
    "a =5\n",
    "b = -3\n",
    "c = 25\n",
    "d = -10\n",
    "print(a+b+c > a+c - b*d)\n",
    "print(str(a+b+c > a+c - b*d) == True)\n",
    "print(len(str(a+b+c >a+c - b*d)) == len(str(bool(1)))\n"
   ]
  },
  {
   "cell_type": "markdown",
   "id": "87cf614c-8464-4f27-bd79-e3ca6f397c49",
   "metadata": {},
   "source": [
    "### True\n",
    "### Here true is in double Quote and t is in small letter so error produce\n",
    "### incomplete input\r\n"
   ]
  },
  {
   "cell_type": "code",
   "execution_count": 9,
   "id": "f730ecc4-b872-4a07-bd5a-37085f8965b8",
   "metadata": {},
   "outputs": [
    {
     "name": "stdout",
     "output_type": "stream",
     "text": [
      "3.625 3 3.625 3.625 3.625 3\n"
     ]
    }
   ],
   "source": [
    "#2.\tPredict the output of the following code:\n",
    "a = 3 + 5 / 8\n",
    "b = int( 3 + 5 / 8)\n",
    "c = 3 + float( 5 / 8)\n",
    "d = 3 + float(5) / 8\n",
    "e = 3 + 5.0 / 8\n",
    "f = int(3 + 5 / 8.0 )\n",
    "print( a, b, c, d, e, f)"
   ]
  },
  {
   "cell_type": "code",
   "execution_count": 12,
   "id": "c8a583ec-dfaa-4416-af20-7bb9b47f2c7c",
   "metadata": {},
   "outputs": [
    {
     "name": "stdout",
     "output_type": "stream",
     "text": [
      "False\n",
      "True\n",
      "True\n",
      "True\n",
      "False\n",
      "False\n",
      "True\n",
      "False\n",
      "True\n"
     ]
    }
   ],
   "source": [
    "#3.\tGuess the output:\n",
    "#a.\t\n",
    "print(bool(0))\n",
    "#b.\t\n",
    "print(bool(1))\n",
    "#c.\t\n",
    "print(bool('0'))\n",
    "#d.\t\n",
    "print(bool('1'))\n",
    "#e.\t\n",
    "print(bool(''))\n",
    "#f.\t\n",
    "print(bool(0.0))\n",
    "#g.\t\n",
    "print(bool('0.0'))\n",
    "#h.\t\n",
    "print(bool(0j))\n",
    "#i.\t\n",
    "print(bool('0j'))\n"
   ]
  },
  {
   "cell_type": "code",
   "execution_count": 15,
   "id": "b960bb94-2ce5-4d07-9dba-93bc78b46f0c",
   "metadata": {},
   "outputs": [
    {
     "name": "stdin",
     "output_type": "stream",
     "text": [
      "enter your principle Amount 500000\n",
      "enter your Rate Of Interest 8\n",
      "inter time in number of years 2\n"
     ]
    },
    {
     "name": "stdout",
     "output_type": "stream",
     "text": [
      "80000.0\n"
     ]
    }
   ],
   "source": [
    "#4.\tWAP in Python to obtain principal amount, rate of interest and time from the user and compute simple interest.\n",
    "Principle_Amount=float(input(\"enter your principle Amount\"))\n",
    "Rate_Of_Interest=float(input(\"enter your Rate Of Interest\"))\n",
    "time=float(input(\"inter time in number of years\"))\n",
    "Simple_Interest=(Principle_Amount*time*Rate_Of_Interest)/100\n",
    "print(Simple_Interest)\n"
   ]
  },
  {
   "cell_type": "code",
   "execution_count": 22,
   "id": "4460fcfa-a564-4a76-b144-75b8c00e22fb",
   "metadata": {},
   "outputs": [
    {
     "name": "stdin",
     "output_type": "stream",
     "text": [
      "Enter the loan principal amount:  875000\n",
      "Enter the annual interest rate (in %):  5\n",
      "Enter the loan tenure (in months):  6\n"
     ]
    },
    {
     "name": "stdout",
     "output_type": "stream",
     "text": [
      "The EMI for the loan is: 147967.44\n"
     ]
    }
   ],
   "source": [
    "#5.\tWAP in Python to calculate EMI as per the formula :\n",
    "#E = PR(1+R)n  / ((1 + R)n -1)\n",
    "principal = float(input(\"Enter the loan principal amount: \"))\n",
    "annual_rate = float(input(\"Enter the annual interest rate (in %): \"))\n",
    "tenure_months = int(input(\"Enter the loan tenure (in months): \"))\n",
    "monthly_rate = (annual_rate / 12) / 100\n",
    "emi = (principal * monthly_rate * (1 + monthly_rate) ** tenure_months) / \\\n",
    "          ((1 + monthly_rate) ** tenure_months - 1)\n",
    "print(f\"The EMI for the loan is: {emi:.2f}\")\n",
    "\n"
   ]
  },
  {
   "cell_type": "markdown",
   "id": "7abf4981-04a4-4182-9e5a-11900333b207",
   "metadata": {},
   "source": [
    "### Assignment 4"
   ]
  },
  {
   "cell_type": "code",
   "execution_count": 21,
   "id": "801c2182-62d0-48aa-b20b-4787c307a502",
   "metadata": {},
   "outputs": [
    {
     "name": "stdin",
     "output_type": "stream",
     "text": [
      "Enter the first number:  85\n",
      "Enter the second number:  5\n",
      "Enter an arithmetic operator (+, -, *, /, %):  /\n"
     ]
    },
    {
     "name": "stdout",
     "output_type": "stream",
     "text": [
      "The result is: 17.0\n"
     ]
    }
   ],
   "source": [
    "#1.\tWAP in Python that reads two numbers and an arithmetic operator and displays the computed result.\n",
    "num1 = float(input(\"Enter the first number: \"))\n",
    "num2 = float(input(\"Enter the second number: \"))\n",
    "operator = input(\"Enter an arithmetic operator (+, -, *, /, %): \")\n",
    "if operator == '+':\n",
    "    result=num1 + num2\n",
    "elif operator == '-':\n",
    "    result=num1 - num2\n",
    "elif operator == '*':\n",
    "    result=num1 * num2\n",
    "elif operator == '/':\n",
    "    if num2 != 0:\n",
    "        result=num1 / num2\n",
    "    else:\n",
    "        result=\"Error: Division by zero!\"\n",
    "elif operator == '%':\n",
    "    result=num1 % num2\n",
    "else:\n",
    "    result=\"Invalid operator!\"\n",
    "print(f\"The result is: {result}\")\n"
   ]
  },
  {
   "cell_type": "code",
   "execution_count": 23,
   "id": "d2d234c0-32c9-4cd0-82d4-4a90af3bb4f4",
   "metadata": {},
   "outputs": [
    {
     "name": "stdout",
     "output_type": "stream",
     "text": [
      "1\n",
      "3\n",
      "6\n",
      "10\n",
      "15\n",
      "21\n",
      "28\n"
     ]
    }
   ],
   "source": [
    "#2.\tWAP in Python sum of natural numbers from 1 to 7. Print the sum progressively, that is , after adding each natural number, print sum so far.\n",
    "Total_Sum=0\n",
    "for i in range(1,8):\n",
    "    Total_Sum +=i\n",
    "    print(Total_Sum)"
   ]
  },
  {
   "cell_type": "code",
   "execution_count": 25,
   "id": "b51c2102-4afd-4d68-99bb-25f559a46329",
   "metadata": {},
   "outputs": [
    {
     "name": "stdin",
     "output_type": "stream",
     "text": [
      "enter number of item 8\n",
      "total cash recive  500\n",
      "total cash recive  200\n",
      "total cash recive  800\n",
      "total cash recive  600\n",
      "total cash recive  700\n",
      "total cash recive  100\n",
      "total cash recive  200\n"
     ]
    },
    {
     "name": "stdout",
     "output_type": "stream",
     "text": [
      "average income in week : 442.85714285714283\n"
     ]
    }
   ],
   "source": [
    "#3.\tWAP in Python to accept the number of items sold and the total cash received in a day for a week \n",
    "#   and then print the average income of the shopkeeper at the end of the week.\n",
    "Number_item=int(input(\"enter number of item\"))\n",
    "sum=0\n",
    "for i in range(1,8):\n",
    "    Total_Cash_1D=int(input(\"total cash recive \"))\n",
    "    sum +=Total_Cash_1D\n",
    "result =float(sum/7)\n",
    "print(f\"average income in week : {result}\")\n",
    "\n"
   ]
  },
  {
   "cell_type": "code",
   "execution_count": 27,
   "id": "5d12123e-d81d-4afa-86af-3ddaff990b78",
   "metadata": {},
   "outputs": [
    {
     "name": "stdout",
     "output_type": "stream",
     "text": [
      "1\n",
      "3\n",
      "4\n",
      "5\n",
      "6\n"
     ]
    }
   ],
   "source": [
    "#4.\tWAP in Python to illustrate the difference between break and continue statements\n",
    "for i in range(1,10):\n",
    "    \n",
    "    if(i==2):\n",
    "        continue\n",
    "    if(i==7):\n",
    "        break\n",
    "    print(i)    "
   ]
  },
  {
   "cell_type": "code",
   "execution_count": 32,
   "id": "00531ea5-6dae-4452-bf7f-c58767cec923",
   "metadata": {},
   "outputs": [
    {
     "name": "stdin",
     "output_type": "stream",
     "text": [
      "enter a input number or 'no' for stop 5\n",
      "enter a input number or 'no' for stop 8\n",
      "enter a input number or 'no' for stop 9\n",
      "enter a input number or 'no' for stop 13\n",
      "enter a input number or 'no' for stop no\n"
     ]
    },
    {
     "name": "stdout",
     "output_type": "stream",
     "text": [
      "total sum=35.0\n"
     ]
    }
   ],
   "source": [
    "#5.\tWAP in Python to input some numbers repeatedly and finally print their sum. \n",
    "#The program ends only when the user says ‘no’ or enters a negative number.\n",
    "total_sum=0\n",
    "while True:\n",
    "    user_input=input(\"enter a input number or 'no' for stop\")\n",
    "    if user_input.lower()=='no':\n",
    "        break\n",
    "    try:\n",
    "        num=float(user_input)\n",
    "        if(num<0):\n",
    "            break\n",
    "        total_sum +=num\n",
    "    except value_error:\n",
    "        print(\"enter a valid number or (no type for stop)\")\n",
    "print(f\"total sum={total_sum}\")"
   ]
  },
  {
   "cell_type": "markdown",
   "id": "553f4f4f-d8ea-4b45-9693-14cec47d4fff",
   "metadata": {},
   "source": [
    "### Assignment 5"
   ]
  },
  {
   "cell_type": "code",
   "execution_count": 37,
   "id": "9ddb700c-e5d5-49d2-8330-8a44e3828b6d",
   "metadata": {},
   "outputs": [
    {
     "name": "stdin",
     "output_type": "stream",
     "text": [
      "enter a String sam\n"
     ]
    },
    {
     "name": "stdout",
     "output_type": "stream",
     "text": [
      "s\tm\n",
      "a\ta\n",
      "m\ts\n"
     ]
    }
   ],
   "source": [
    "#  1.\tWAP in Python to display a string given by user like this,\n",
    "# \tExample,\n",
    "# \t\t\tt\ty\n",
    "# \t\t\tr\tr\n",
    "# \t\t\ty\tt\n",
    "str=input(\"enter a String\")\n",
    "length=len(str)\n",
    "for i in range(length):\n",
    "    print(f\"{str[i]}\\t{str[length-i-1]}\")\n",
    "\n"
   ]
  },
  {
   "cell_type": "code",
   "execution_count": 39,
   "id": "931b6c1c-760a-47ce-85fb-dc781391c1d4",
   "metadata": {},
   "outputs": [
    {
     "name": "stdin",
     "output_type": "stream",
     "text": [
      "Enter a line:  hi samim what are doing now and what happen to you samim\n",
      "Enter a substring:  samim\n"
     ]
    },
    {
     "name": "stdout",
     "output_type": "stream",
     "text": [
      "The substring 'samim' occurs 2 time(s) in the given line.\n"
     ]
    }
   ],
   "source": [
    "#2.\tWAP in Python that reads a line and a substring.\n",
    "#   It should display then the number of occurrences of the given substring in the line.\n",
    "def count_substring_occurrences(line, substring):\n",
    "    return line.count(substring)\n",
    "line = input(\"Enter a line: \")\n",
    "substring = input(\"Enter a substring: \")\n",
    "occurrences = count_substring_occurrences(line, substring)\n",
    "print(f\"The substring '{substring}' occurs {occurrences} time(s) in the given line.\")\n"
   ]
  },
  {
   "cell_type": "code",
   "execution_count": 41,
   "id": "9888cb8e-2288-485a-b64f-7bc272983ce0",
   "metadata": {},
   "outputs": [
    {
     "name": "stdin",
     "output_type": "stream",
     "text": [
      "Enter a string:  student\n"
     ]
    },
    {
     "name": "stdout",
     "output_type": "stream",
     "text": [
      "sTuDeNt\n"
     ]
    }
   ],
   "source": [
    "#3.\tWAP in Python that reads a string and then prints a string that capitalizes \n",
    "# every other character in the string e.g.  student will become sTuDenT\n",
    "def capitalize_alternate(string):\n",
    "    result = \"\"\n",
    "    for i in range(len(string)):\n",
    "        if i % 2 == 0:\n",
    "            result += string[i].lower()  # Lowercase for even indices\n",
    "        else:\n",
    "            result += string[i].upper()  # Uppercase for odd indices\n",
    "    return result\n",
    "user_string = input(\"Enter a string: \")\n",
    "print(capitalize_alternate(user_string))\n"
   ]
  },
  {
   "cell_type": "code",
   "execution_count": 42,
   "id": "1e3783e1-7e4f-4548-95e4-20380abdb30d",
   "metadata": {},
   "outputs": [
    {
     "name": "stdin",
     "output_type": "stream",
     "text": [
      "Enter a string:  racecar\n"
     ]
    },
    {
     "name": "stdout",
     "output_type": "stream",
     "text": [
      "'racecar' is a palindrome.\n"
     ]
    }
   ],
   "source": [
    "# 4.\tWAP that reads a string and checks whether it is a palindrome or not.\n",
    "def is_palindrome(string):\n",
    "    cleaned_string = string.replace(\" \", \"\").lower()\n",
    "    return cleaned_string == cleaned_string[::-1]\n",
    "user_string = input(\"Enter a string: \")\n",
    "if is_palindrome(user_string):\n",
    "    print(f\"'{user_string}' is a palindrome.\")\n",
    "else:\n",
    "    print(f\"'{user_string}' is not a palindrome.\")\n"
   ]
  },
  {
   "cell_type": "markdown",
   "id": "7159028d-cc23-4297-af48-d6306ebf10b8",
   "metadata": {},
   "source": [
    "### Assignment 6"
   ]
  },
  {
   "cell_type": "code",
   "execution_count": 43,
   "id": "57e470ce-95dc-4ad8-a1e4-d394f73d8b13",
   "metadata": {},
   "outputs": [
    {
     "name": "stdout",
     "output_type": "stream",
     "text": [
      "musttry\n",
      "trytrytry\n"
     ]
    }
   ],
   "source": [
    "# 1.\tFigure out the problem with the following code fragment:\n",
    "# a.\tS1 = ‘must’\n",
    "# b.\tS2 = ‘try’\n",
    "# c.\tN1 = 10\n",
    "# d.\tN2 = 3\n",
    "# e.\tprint(S1 + S2)\n",
    "# f.\tprint( S2 * N2)\n",
    "# g.\tprint(S1 + N1)\n",
    "# h.\tprint(S2 * S1)\n",
    "S1 = \"must\"\n",
    "S2 = \"try\"\n",
    "N1 = 10\n",
    "N2 = 3\n",
    "print(S1 + S2)\n",
    "print( S2 * N2)\n",
    "# print(S1 + N1)\n",
    "# print(S2 * S1)"
   ]
  },
  {
   "cell_type": "markdown",
   "id": "57cf5c7a-c1f5-42f5-b9c0-5e8172872afc",
   "metadata": {},
   "source": [
    "### in the 3rd print string cannot concatenate with integer\n",
    "### in the 4th print string cannot multiply with string\n",
    "### both case give error"
   ]
  },
  {
   "cell_type": "code",
   "execution_count": null,
   "id": "4d441952-c5f2-47b1-9ef1-f924b9c9625f",
   "metadata": {},
   "outputs": [],
   "source": [
    "2.\tConsider the following code:\n",
    "a.\tString = input(“ enter a string:”)\n",
    "b.\tCount = 3\n",
    "c.\twhile  True :\n",
    "i.\tif String[0] ==’a’ :\n",
    "1.\tString = String[2: ]\n",
    "ii.\telif String[-1] == ‘b’\n",
    "1.\tString = String[ : 2]\n",
    "iii.\telse :\n",
    "1.\tCount +=1\n",
    "2.\tBreak\n",
    "d.\tprint( String)\n",
    "e.\tprint(Count)\n",
    "What will be the output produced, if the input is : \n",
    "1.\taabbcc  \n",
    "2.\taaccbb \n",
    "3.\tabcc \n"
   ]
  },
  {
   "cell_type": "markdown",
   "id": "226a029c-8bb2-4f11-a36c-ca943621d9e3",
   "metadata": {},
   "source": [
    "### for (a) aabbcc output is: bbcc and count=4\n",
    "### for (b) aaccbb output is: cc and count = 4\n",
    "### for (c) abcc output is: cc and count = 4"
   ]
  },
  {
   "cell_type": "code",
   "execution_count": null,
   "id": "c0c991b4-db12-4c0c-9966-4e5cb73772f9",
   "metadata": {},
   "outputs": [],
   "source": [
    ".  Consider the following code:\n",
    "1.\tInp = input(“Please enter a string:”)\n",
    "2.\twhile len(Inp) <=4 :\n",
    "3.\t \tif Inp[-1] == ‘z’ :\n",
    "Inp = Inp[0 : 3] + ‘c’\n",
    "elif  ‘a’ in Inp :\n",
    "\tInp = Inp[0] + ‘bb’\n",
    "elif  not int (Inp[0]) :\n",
    "\tInp = ‘1’ + Inp[1 : ] + ‘z’\n",
    "else :\n",
    "\tInp = Inp + ‘*’\n",
    "4.\tprint(Inp)\n",
    "What will be the output produced if the input is \n",
    "1.\t1bzz\n",
    "2.\t1a\n",
    "3.\tabc\n",
    "4.\t0xy\n",
    "5.\txyz\n"
   ]
  },
  {
   "cell_type": "markdown",
   "id": "970b4466-c972-453f-a30c-1f878171df37",
   "metadata": {},
   "source": [
    "### 1. 1bbc\n",
    "### 2. 1bb\n",
    "### 3. 1bbz\n",
    "### 4. 0xy*\n",
    "### 5. xyzc"
   ]
  }
 ],
 "metadata": {
  "kernelspec": {
   "display_name": "Python 3 (ipykernel)",
   "language": "python",
   "name": "python3"
  },
  "language_info": {
   "codemirror_mode": {
    "name": "ipython",
    "version": 3
   },
   "file_extension": ".py",
   "mimetype": "text/x-python",
   "name": "python",
   "nbconvert_exporter": "python",
   "pygments_lexer": "ipython3",
   "version": "3.11.7"
  }
 },
 "nbformat": 4,
 "nbformat_minor": 5
}
